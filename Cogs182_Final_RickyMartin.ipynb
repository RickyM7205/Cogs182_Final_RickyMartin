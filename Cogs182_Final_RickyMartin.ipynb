{
 "cells": [
  {
   "cell_type": "markdown",
   "id": "several-wesley",
   "metadata": {},
   "source": [
    "# Project 2 \n",
    "### Student Name: Ricky Martin\n",
    "### Student PID: A13810245\n",
    "\n",
    "#### Due: Mar 15 at 11:59pm\n",
    "\n",
    "#### Goal is to implement 2 algorithms for solving a problem of choice.\n",
    "\n",
    "#### To Dos: \n",
    "    Upload to Github\n",
    "    Have a READ ME file that provides guide to run code\n",
    "    provide github link in final report\n",
    "    \n",
    "#### Sources that helped with Code:\n",
    "    \n",
    "    * TA: Dan Acosta-Kane\n",
    "            Helped with the Skeleton Code from previous Homeworks in properly \n",
    "            implementing a Dyna Q Algorithm.\n",
    "    * Sentdex on Youtube: \n",
    "            Help with the Robotic Arm manipulation as well as UARM Swift Pro 2 API \n",
    "            access.\n",
    "            link: https://www.youtube.com/watch?v=gRzqsW9Rj3E\n",
    "    * Dr. Danieal Soper on Youtube:\n",
    "            Help with inspiration for the project as well as implementation. All code \n",
    "            provided in this Document is my own, I simply used his video for inspiration\n",
    "            and some guidance.\n",
    "            link: https://www.youtube.com/watch?v=iKdlKYG78j4\n",
    "            \n",
    "#### The provided Notebook will be split into two parts:\n",
    "\n",
    "    * Part 1: Q-Learning Algorithm vs. Dyna Q Algorithm\n",
    "            This Section will go over the state and implementation of a maze that is to \n",
    "            be manuevered through by the agents.\n",
    "    * Part 2: Robotic Arm implementation\n",
    "            This section will be where we use the q-values of the trained models to \n",
    "            operate a real robotic arm through the maze."
   ]
  },
  {
   "cell_type": "markdown",
   "id": "leading-upper",
   "metadata": {},
   "source": [
    "## Part 1: Reinforcement Learning "
   ]
  },
  {
   "cell_type": "markdown",
   "id": "native-alloy",
   "metadata": {},
   "source": [
    "### Imports"
   ]
  },
  {
   "cell_type": "code",
   "execution_count": 1,
   "id": "collect-signature",
   "metadata": {},
   "outputs": [],
   "source": [
    "# Regular imports\n",
    "import numpy as np\n",
    "import pandas as pd\n",
    "import matplotlib.pyplot as plt\n",
    "\n",
    "# Tracking Progress\n",
    "from tqdm import tqdm\n",
    "\n",
    "# Visualizing Environment\n",
    "import heapq\n",
    "from scipy.signal import convolve as conv"
   ]
  },
  {
   "cell_type": "markdown",
   "id": "blind-morrison",
   "metadata": {},
   "source": [
    "### Create Environment"
   ]
  },
  {
   "cell_type": "code",
   "execution_count": 2,
   "id": "innocent-breed",
   "metadata": {},
   "outputs": [],
   "source": [
    "# Environment Creation: This state offers complications/barriers but should be a good \n",
    "#              showcase for the abilities of Q-Learning and Dyna Q. The all black boxes \n",
    "#              Represent a -100 Reward because in places where a robot operates there \n",
    "#              may not be room for 'redirection' the agent will need to understand there \n",
    "#              could be walls or obstructions and there for the agent cannot pass into \n",
    "#              certain areas and expect a redirection.\n",
    "\n",
    "def create_env(n):\n",
    "    \n",
    "    b = int(-100) # bad areas\n",
    "    I = int(-1)   # path\n",
    "    O = int(100)  # goal\n",
    "    \n",
    "    environment = [[b,b,b,b,b,b,b,b,b,b,b],\n",
    "                   [b,I,I,I,I,I,I,I,I,I,b],\n",
    "                   [b,I,b,I,b,I,b,I,b,I,b],\n",
    "                   [b,I,b,I,b,O,b,I,b,I,b],\n",
    "                   [b,I,b,I,I,b,I,I,b,I,b],\n",
    "                   [b,b,I,I,I,I,I,I,I,b,b],\n",
    "                   [b,I,I,b,b,b,b,b,I,I,b],\n",
    "                   [b,I,I,I,I,I,I,I,I,I,b],\n",
    "                   [b,b,I,b,b,I,b,b,I,b,b],\n",
    "                   [b,I,I,I,I,b,I,I,I,I,b],\n",
    "                   [b,b,b,b,b,b,b,b,b,b,b]]\n",
    "    \n",
    "    # Different Ways of implementation, kept for editing purposes\n",
    "    #environment = [[-10, -10, -10, -10, -10, -10, -10, -10, -10, -10, -10],\n",
    "     #              [-10,  -1,  -1,  -1,  -1,  -1,  -1,  -1,  -1,  -1, -10],\n",
    "      #             [-10, -10,  -1,  -1, -10,  -1, -10,  -1,  -1, -10, -10],\n",
    "       #            [-10, -10, -10,  -1, -10,  10, -10,  -1, -10, -10, -10],\n",
    "        #           [-10, -10, -10,  -1,  -1, -10,  -1,  -1, -10, -10, -10],\n",
    "         #          [-10, -10,  -1,  -1,  -1,  -1,  -1,  -1,  -1, -10, -10],\n",
    "          #         [-10,  -1,  -1, -10, -10, -10, -10,  -10,  -1, -1, -10],\n",
    "           #        [-10,  -1,  -1,  -1,  -1,  -1,  -1,  -1,  -1,  -1, -10],\n",
    "            #       [-10, -10,  -1, -10, -10,  -1, -10, -10,  -1, -10, -10],\n",
    "             #      [-10,  -1,  -1,  -1,  -1,  -1,  -1,  -1,  -1,  -1, -10],\n",
    "              #     [-10, -10, -10, -10, -10, -10, -10, -10, -10, -10, -10]]\n",
    "    \n",
    "    # Different Environment to test\n",
    "    #environment = [[-10, -10, -10, -10, -10,  10, -10, -10, -10, -10, -10],\n",
    "     #              [-10,  -1,  -1,  -1,  -1,  -1,  -1,  -1,  -1,  -1, -10],\n",
    "      #             [-10, -10,  -1,  -1,  -1,  -1,  -1,  -1,  -1, -10, -10],\n",
    "       #            [-10, -10, -10,  -1,  -1,  -1, -10, -10, -10, -10, -10],\n",
    "        #           [-10, -10, -10,  -1,  -1,  -1,  -1,  -1, -10, -10, -10],\n",
    "         #          [-10, -10, -10, -10, -10,  -1,  -1,  -1, -10, -10, -10],\n",
    "          #         [-10, -10,  -1,  -1,  -1,  -1,  -1,  -1,  -1, -10, -10],\n",
    "           #        [-10,  -1,  -1,  -1, -10, -10, -10,  -1,  -1,  -1, -10],\n",
    "            #       [-10,  -1,  -1,  -1,  -1,  -1,  -1,  -1,  -1,  -1, -10],\n",
    "             #      [-10,  -1,  -1,  -1,  -1,  -1,  -1,  -1,  -1,  -1, -10],\n",
    "              #     [-10, -10, -10, -10, -10, -10, -10, -10, -10, -10, -10]]\n",
    "            \n",
    "    # actions: what direction the agent will move\n",
    "    actions = ['up', 'right', 'down', 'left']\n",
    "    \n",
    "    # for graphing purposes, did this for color\n",
    "    env_list = []\n",
    "    for row in np.array(environment):\n",
    "        env_list.append(row*-1)\n",
    "\n",
    "    # Display the maze better with a cmap display\n",
    "    plt.figure(figsize=(10, 10))\n",
    "    plt.imshow(env_list, cmap=plt.cm.gray_r, interpolation='nearest')\n",
    "    plt.show()\n",
    "            \n",
    "    return np.array(environment), actions"
   ]
  },
  {
   "cell_type": "code",
   "execution_count": 3,
   "id": "intensive-capability",
   "metadata": {},
   "outputs": [
    {
     "data": {
      "image/png": "[encoded data removed]",
      "text/plain": [
       "<Figure size 720x720 with 1 Axes>"
      ]
     },
     "metadata": {
      "needs_background": "light"
     },
     "output_type": "display_data"
    }
   ],
   "source": [
    "# Create an environment: I matched this with real world sizing. Later we will see my \n",
    "#             real world implementation takes up a 9x9 space, however this is due to the\n",
    "#             11x11 being made up of imaginary walls.\n",
    "\n",
    "\n",
    "grid_n = 11 \n",
    "env, actions = create_env(grid_n)"
   ]
  },
  {
   "cell_type": "code",
   "execution_count": 4,
   "id": "virtual-mistress",
   "metadata": {},
   "outputs": [],
   "source": [
    "# For Later Use\n",
    "ls = [[5,5],[5,4],[9,1],[4,9],[1,1],[1,4],[9,3],[6,9],[9,6],[5,8]]"
   ]
  },
  {
   "cell_type": "markdown",
   "id": "upper-heavy",
   "metadata": {},
   "source": [
    "### Helper Functions"
   ]
  },
  {
   "cell_type": "code",
   "execution_count": 5,
   "id": "transparent-listening",
   "metadata": {},
   "outputs": [],
   "source": [
    "# Get the starting state which is a randomly selected block that is not an edge or goal\n",
    "def start(n, env):\n",
    "    row = np.random.randint(n)\n",
    "    col = np.random.randint(n)\n",
    "\n",
    "    # Run through random states until we find a spot we can work on\n",
    "    while env[row, col] != -1:\n",
    "        row = np.random.randint(n)\n",
    "        col = np.random.randint(n)  \n",
    "    \n",
    "    # return starting state\n",
    "    state = row,col\n",
    "    return state\n",
    "\n",
    "# Get the next state acording to the action selected\n",
    "def next_state(state, action):\n",
    "    \n",
    "    # Get row and coloumn state\n",
    "    row = state[0]\n",
    "    col = state[1]\n",
    "    \n",
    "    # Move according to action\n",
    "    if actions[action] == 'up' and col > 0:\n",
    "        row -= 1\n",
    "    elif actions[action] == 'right' and row < grid_n - 1:\n",
    "        col -= 1\n",
    "    elif actions[action] == 'down' and col < grid_n - 1:\n",
    "        row += 1\n",
    "    elif actions[action] == 'left' and row > 0:\n",
    "        col += 1\n",
    "        \n",
    "    # return new state\n",
    "    new_state = row,col\n",
    "    return new_state\n",
    "\n",
    "# Get the next action utilizing e-greedy exploration\n",
    "# Utilizes Q values\n",
    "def next_action(state, epsilon, values):\n",
    "    \n",
    "    # actions: what direction the agent will move\n",
    "    actions = ['up', 'right', 'down', 'left']\n",
    "    \n",
    "    # e-greedy exploration, go with q-value location aka: location of action\n",
    "    if np.random.random() < epsilon:\n",
    "        return np.argmax(values[state])\n",
    "    else: \n",
    "        return np.random.randint(len(actions))   "
   ]
  },
  {
   "cell_type": "markdown",
   "id": "interior-india",
   "metadata": {},
   "source": [
    "### Testing State-Action is working Correctly"
   ]
  },
  {
   "cell_type": "code",
   "execution_count": 6,
   "id": "victorian-tuition",
   "metadata": {},
   "outputs": [],
   "source": [
    "def create_env_test(n):\n",
    "    \n",
    "    b = int(-10) # bad areas\n",
    "    I = int(-1)   # path\n",
    "    O = int(10)  # goal\n",
    "    \n",
    "    environment = [[b,b,b,b,b,b,b,b,b,b,b],\n",
    "                   [b,I,I,I,I,I,I,I,I,I,b],\n",
    "                   [b,I,b,I,b,I,b,I,b,I,b],\n",
    "                   [b,I,b,I,b,O,b,I,b,I,b],\n",
    "                   [b,I,b,I,I,b,I,I,b,I,b],\n",
    "                   [b,b,I,I,I,I,I,I,I,b,b],\n",
    "                   [b,I,I,b,b,b,b,b,I,I,b],\n",
    "                   [b,I,I,I,I,I,I,I,I,I,b],\n",
    "                   [b,b,I,b,b,I,b,b,I,b,b],\n",
    "                   [b,I,I,I,I,b,I,I,I,I,b],\n",
    "                   [b,b,b,b,b,b,b,b,b,b,b]]\n",
    "\n",
    "    # actions: what direction the agent will move\n",
    "    actions = ['up', 'right', 'down', 'left']\n",
    "    \n",
    "    # for graphing purposes, did this for color\n",
    "    env_list = []\n",
    "    for row in np.array(environment):\n",
    "        env_list.append(row*-1)\n",
    "\n",
    "    # Display the maze better with a cmap display\n",
    "    plt.figure(figsize=(5, 5))\n",
    "    plt.imshow(env_list, cmap=plt.cm.gray_r, interpolation='nearest')\n",
    "    plt.show()\n",
    "            \n",
    "    return np.array(environment), actions\n",
    "\n",
    "# Graphs current iteration of the Environment\n",
    "def graph_env(env, state):\n",
    "    testenv = env\n",
    "    testenv[state] = 0\n",
    "    \n",
    "    # for graphing purposes, multiplying by -1 to make a better graph\n",
    "    env_list = []\n",
    "    for row in np.array(testenv):\n",
    "        env_list.append(row*-1)\n",
    "\n",
    "    # Display the maze better with a cmap display\n",
    "    plt.figure(figsize=(5, 5))\n",
    "    plt.imshow(env_list, cmap=plt.cm.gray_r, interpolation='nearest')\n",
    "    plt.show()"
   ]
  },
  {
   "cell_type": "markdown",
   "id": "lesser-meditation",
   "metadata": {},
   "source": [
    "#### Test environment"
   ]
  },
  {
   "cell_type": "code",
   "execution_count": 8,
   "id": "transsexual-shopping",
   "metadata": {},
   "outputs": [
    {
     "data": {
      "image/png": "[encoded data removed]",
      "text/plain": [
       "<Figure size 360x360 with 1 Axes>"
      ]
     },
     "metadata": {
      "needs_background": "light"
     },
     "output_type": "display_data"
    }
   ],
   "source": [
    "epsilon = .8\n",
    "\n",
    "# Define Empty Q-value list aka: state action pair list\n",
    "q_values = np.zeros((grid_n, grid_n, len(actions)))\n",
    "\n",
    "# call create env again to make a new graphing showcase\n",
    "grid_n = 11\n",
    "env_t, actions = create_env_test(grid_n)"
   ]
  },
  {
   "cell_type": "markdown",
   "id": "pleasant-cruise",
   "metadata": {},
   "source": [
    "#### Test Start State"
   ]
  },
  {
   "cell_type": "code",
   "execution_count": 9,
   "id": "unlike-outdoors",
   "metadata": {},
   "outputs": [
    {
     "name": "stdout",
     "output_type": "stream",
     "text": [
      "Starting state: (9, 1)\n"
     ]
    },
    {
     "data": {
      "image/png": "[encoded data removed]",
      "text/plain": [
       "<Figure size 360x360 with 1 Axes>"
      ]
     },
     "metadata": {
      "needs_background": "light"
     },
     "output_type": "display_data"
    }
   ],
   "source": [
    "# Get initial state then graph it\n",
    "state = start(grid_n, env_t)\n",
    "print('Starting state:', state)\n",
    "graph_env(env_t, state)"
   ]
  },
  {
   "cell_type": "markdown",
   "id": "cooked-edition",
   "metadata": {},
   "source": [
    "#### Test Next Action"
   ]
  },
  {
   "cell_type": "code",
   "execution_count": 10,
   "id": "micro-continent",
   "metadata": {},
   "outputs": [
    {
     "name": "stdout",
     "output_type": "stream",
     "text": [
      "Action Template: 0 = up, 1 = right, 2 = down, 3 = left\n",
      "Action: 0\n"
     ]
    }
   ],
   "source": [
    "# Get random action associated with the state\n",
    "a = next_action(state, epsilon, q_values)\n",
    "print('Action Template: 0 = up, 1 = right, 2 = down, 3 = left')\n",
    "print('Action:', a)"
   ]
  },
  {
   "cell_type": "markdown",
   "id": "floral-charge",
   "metadata": {},
   "source": [
    "#### Test Next State"
   ]
  },
  {
   "cell_type": "code",
   "execution_count": 11,
   "id": "studied-trial",
   "metadata": {},
   "outputs": [
    {
     "name": "stdout",
     "output_type": "stream",
     "text": [
      "State Prime: (8, 1)\n"
     ]
    },
    {
     "data": {
      "image/png": "[encoded data removed]",
      "text/plain": [
       "<Figure size 360x360 with 1 Axes>"
      ]
     },
     "metadata": {
      "needs_background": "light"
     },
     "output_type": "display_data"
    }
   ],
   "source": [
    "# Get S' for the s/a pair\n",
    "new_state = next_state(state, a)\n",
    "print('State Prime:', new_state)\n",
    "graph_env(env_t, new_state)"
   ]
  },
  {
   "cell_type": "markdown",
   "id": "auburn-integer",
   "metadata": {},
   "source": [
    "#### Test Reward"
   ]
  },
  {
   "cell_type": "code",
   "execution_count": 12,
   "id": "dependent-amsterdam",
   "metadata": {},
   "outputs": [
    {
     "name": "stdout",
     "output_type": "stream",
     "text": [
      "Reward for state: -1\n",
      "Reward for state prime: -100\n",
      "Reward so far: -101\n"
     ]
    }
   ],
   "source": [
    "# Get the reward associate with the state\n",
    "r = env[state[0],state[1]]\n",
    "r_p = env[new_state[0],new_state[1]]\n",
    "print('Reward for state:',r)\n",
    "print('Reward for state prime:', r_p)\n",
    "print('Reward so far:',r+r_p)"
   ]
  },
  {
   "cell_type": "markdown",
   "id": "desirable-runner",
   "metadata": {},
   "source": [
    "## RL Models"
   ]
  },
  {
   "cell_type": "code",
   "execution_count": 13,
   "id": "existing-renewal",
   "metadata": {},
   "outputs": [],
   "source": [
    "def run_episode_q(env, q_values, alpha, gamma, ep, max_steps):\n",
    "    \n",
    "    #run through 1000 training episodes\n",
    "    for t in range(max_steps):\n",
    "        \n",
    "        # Get Starting State, INITIALIZE S\n",
    "        state = start(grid_n, env)\n",
    "        row, col = state\n",
    "        \n",
    "        # Iterate while in the path, if the path is broken, stop\n",
    "        while env[state] == -1:\n",
    "            \n",
    "            # CHOSE A FROM S USING POLICY DERIVED FROM Q\n",
    "            # Select action according to epsilon greedy Exploration\n",
    "            a = next_action(state, ep, q_values)\n",
    "            \n",
    "            # Define old state\n",
    "            p_state = state\n",
    "            p_row, p_col = row, col\n",
    "            \n",
    "            # TAKE ACTION A, OBSERVE R, S'\n",
    "            # Get New State\n",
    "            state = next_state(state, a)\n",
    "            row, col = state\n",
    "            \n",
    "            # Get Reward associated with state\n",
    "            r = env[state]\n",
    "            \n",
    "            # UPDATE and APPLY Q-LEARNING\n",
    "            update = r + (gamma * np.max(q_values[row, col])) - q_values[p_row, p_col, a]\n",
    "            q_values[p_row, p_col, a] = q_values[p_row, p_col, a] + (alpha * update)\n",
    "            \n",
    "    return q_values"
   ]
  },
  {
   "cell_type": "code",
   "execution_count": 14,
   "id": "blank-principal",
   "metadata": {},
   "outputs": [],
   "source": [
    "##########################################################################################"
   ]
  },
  {
   "cell_type": "code",
   "execution_count": 15,
   "id": "numerical-lunch",
   "metadata": {},
   "outputs": [],
   "source": [
    "def run_episode_dynaQ(env, qp_values, model, alpha, gamma, epsilon, n_planning_steps, max_steps):\n",
    "    \n",
    "    # run through 1000 training episodes\n",
    "    for t in range(max_steps):\n",
    "        \n",
    "        # Get Starting State, INITIALIZE S, NONTERMINAL STATE\n",
    "        state = start(grid_n, env)\n",
    "        row, col = state\n",
    "        \n",
    "        while env[state] == -1:\n",
    "            # CHOOSE A FROM S USING POLICY E-Greedy\n",
    "            a = next_action(state, epsilon, qp_values)\n",
    "            \n",
    "            # Define old state\n",
    "            p_state = state\n",
    "            p_row, p_col = row, col\n",
    "            \n",
    "            # TAKE ACTION A, OBSERVE R, S'\n",
    "            # Get New State\n",
    "            state = next_state(state, a)\n",
    "            row, col = state\n",
    "            \n",
    "            # Get Reward associated with state\n",
    "            r = env[state]\n",
    "            \n",
    "            # UPDATE and APPLY Q-LEARNING\n",
    "            update = r + (gamma * np.max(qp_values[row, col])) - qp_values[p_row, p_col, a]\n",
    "            qp_values[p_row, p_col, a] = qp_values[p_row, p_col, a] + (alpha * update)\n",
    "\n",
    "            # MODEL UPDATE\n",
    "            model[p_row, p_col, a] = [row, col, r]\n",
    "\n",
    "            # LOOP REPEAT N TIMES\n",
    "            for k in range(n_planning_steps):\n",
    "\n",
    "                # Create an array of the candidate states to update\n",
    "                candidates = np.array(np.where(~np.isnan(model[:,:,:,0]))).T \n",
    "\n",
    "                # RANDOM INDEX\n",
    "                idx = np.random.choice(len(candidates))\n",
    "\n",
    "                # RANDOMLY OBSERVED STATE AND ACTION\n",
    "                row_p, col_p, a_p = candidates[idx]\n",
    "\n",
    "                # Use your model to find the next state and reward\n",
    "                next_row_p, next_col_p, r_p = model[row_p, col_p, a_p]\n",
    "\n",
    "                # Update q values using q learning\n",
    "                update_p = r_p + (gamma * np.max(qp_values[int(next_row_p), int(next_col_p)])) - qp_values[row_p, col_p, a_p]\n",
    "                qp_values[row_p, col_p, a_p] = qp_values[row_p, col_p, a_p] + (alpha * update_p)\n",
    "\n",
    "    return qp_values, model"
   ]
  },
  {
   "cell_type": "code",
   "execution_count": 16,
   "id": "inside-consolidation",
   "metadata": {},
   "outputs": [],
   "source": [
    "##########################################################################################"
   ]
  },
  {
   "cell_type": "markdown",
   "id": "neither-entity",
   "metadata": {},
   "source": [
    "## Run RL "
   ]
  },
  {
   "cell_type": "code",
   "execution_count": 17,
   "id": "declared-polish",
   "metadata": {},
   "outputs": [],
   "source": [
    "alpha = 0.5\n",
    "gamma = 0.8\n",
    "epsilon = 0.9\n",
    "n_planning_steps= [0,1,10,20]\n",
    "n_episodes = 50\n",
    "n_experiments = 2 \n",
    "max_steps = 1000\n",
    "\n",
    "q_values = []\n",
    "qp_values = []"
   ]
  },
  {
   "cell_type": "code",
   "execution_count": 18,
   "id": "above-montreal",
   "metadata": {},
   "outputs": [
    {
     "name": "stderr",
     "output_type": "stream",
     "text": [
      " 50%|█████     | 1/2 [00:00<00:00,  8.35it/s]"
     ]
    },
    {
     "name": "stdout",
     "output_type": "stream",
     "text": [
      "Q-Learning Training start...\n"
     ]
    },
    {
     "name": "stderr",
     "output_type": "stream",
     "text": [
      "100%|██████████| 2/2 [00:00<00:00,  6.64it/s]"
     ]
    },
    {
     "name": "stdout",
     "output_type": "stream",
     "text": [
      "Q-Learning Training Finished\n",
      "\n"
     ]
    },
    {
     "name": "stderr",
     "output_type": "stream",
     "text": [
      "\n"
     ]
    }
   ],
   "source": [
    "print('Q-Learning Training start...')\n",
    "\n",
    "for i in tqdm(range(n_experiments)):\n",
    "\n",
    "    # Stores model of reward and next state\n",
    "    q_values = np.zeros((grid_n, grid_n, len(actions)))\n",
    "    \n",
    "    # Run Q on an episode of GridWorld\n",
    "    q_values = run_episode_q(env, q_values, alpha, gamma, epsilon, max_steps) \n",
    "\n",
    "print('Q-Learning Training Finished')\n",
    "print('')"
   ]
  },
  {
   "cell_type": "code",
   "execution_count": 19,
   "id": "nearby-plastic",
   "metadata": {},
   "outputs": [
    {
     "name": "stderr",
     "output_type": "stream",
     "text": [
      "\r",
      "0it [00:00, ?it/s]"
     ]
    },
    {
     "name": "stdout",
     "output_type": "stream",
     "text": [
      "Dyna Q Training start ...\n"
     ]
    },
    {
     "name": "stderr",
     "output_type": "stream",
     "text": [
      "4it [13:57, 209.26s/it]"
     ]
    },
    {
     "name": "stdout",
     "output_type": "stream",
     "text": [
      "Q-Learning Training Finished\n"
     ]
    },
    {
     "name": "stderr",
     "output_type": "stream",
     "text": [
      "\n"
     ]
    }
   ],
   "source": [
    "print('Dyna Q Training start ...')\n",
    "\n",
    "for i , k_steps in tqdm(enumerate(n_planning_steps)):\n",
    "    \n",
    "    for j in range(n_experiments):\n",
    "        \n",
    "        # Stores model of reward and next state\n",
    "        model = np.nan*np.zeros((grid_n, grid_n, len(actions), 3))\n",
    "        qp_values = np.zeros((grid_n, grid_n, len(actions)))\n",
    "\n",
    "        #print(model.shape)\n",
    "        for l in range(n_episodes):\n",
    "\n",
    "            # Run DynaQ on an episode of GridWorld\n",
    "            qp_values, model = run_episode_dynaQ(env, qp_values, model, alpha, gamma, epsilon, k_steps, max_steps) \n",
    "\n",
    "print('Q-Learning Training Finished')"
   ]
  },
  {
   "cell_type": "markdown",
   "id": "absolute-nitrogen",
   "metadata": {},
   "source": [
    "## Grapher Functions"
   ]
  },
  {
   "cell_type": "code",
   "execution_count": 26,
   "id": "bored-peeing",
   "metadata": {},
   "outputs": [],
   "source": [
    "def plot_quiver(env, value, grid_n):\n",
    "    \"\"\"\n",
    "    Generate plot showing action of maximum value or maximum probability at\n",
    "    each state (not for n-armed bandit or cheese_world).\n",
    "    \"\"\"\n",
    "    \n",
    "    x = np.arange(0,grid_n)\n",
    "    y = np.arange(0,grid_n)\n",
    "    X, Y = np.meshgrid(x, y)\n",
    "    \n",
    "    a_max = []\n",
    "    for i, row in enumerate(value):\n",
    "        for j in row:\n",
    "            a_max.append(j.argmax())\n",
    "            \n",
    "    a_max = np.reshape(np.array(a_max), (grid_n,grid_n))\n",
    "    a_max = a_max[::-1,:]\n",
    "    print(a_max)\n",
    "    U = np.zeros(X.shape)\n",
    "    V = np.zeros(Y.shape)\n",
    "    U[a_max == 3] = 1\n",
    "    V[a_max == 2] = -1\n",
    "    U[a_max == 1] = -1\n",
    "    V[a_max == 0] = 1\n",
    "\n",
    "    plt.quiver(X, Y, U, V)"
   ]
  },
  {
   "cell_type": "code",
   "execution_count": 27,
   "id": "unavailable-painting",
   "metadata": {},
   "outputs": [
    {
     "name": "stdout",
     "output_type": "stream",
     "text": [
      "[[0 0 0 0 0 0 0 0 0 0 0]\n",
      " [0 3 0 1 1 0 3 3 0 1 0]\n",
      " [0 0 0 0 0 0 0 0 0 0 0]\n",
      " [0 3 0 1 1 1 3 3 0 1 0]\n",
      " [0 3 0 0 0 0 0 0 0 1 0]\n",
      " [0 0 3 0 0 1 3 0 1 0 0]\n",
      " [0 0 0 0 1 0 3 0 0 0 0]\n",
      " [0 0 0 0 0 0 0 0 0 0 0]\n",
      " [0 0 0 0 0 2 0 0 0 0 0]\n",
      " [0 3 3 3 3 2 1 1 1 1 0]\n",
      " [0 0 0 0 0 0 0 0 0 0 0]]\n"
     ]
    },
    {
     "data": {
      "image/png": "[encoded data removed]",
      "text/plain": [
       "<Figure size 432x288 with 1 Axes>"
      ]
     },
     "metadata": {
      "needs_background": "light"
     },
     "output_type": "display_data"
    },
    {
     "data": {
      "image/png": "[encoded data removed]",
      "text/plain": [
       "<Figure size 360x360 with 1 Axes>"
      ]
     },
     "metadata": {
      "needs_background": "light"
     },
     "output_type": "display_data"
    }
   ],
   "source": [
    "# Q-Learning Grid\n",
    "grid_n = 11\n",
    "plot_quiver(env, q_values,grid_n)\n",
    "env_t, actions = create_env_test(grid_n)"
   ]
  },
  {
   "cell_type": "code",
   "execution_count": 28,
   "id": "indoor-seattle",
   "metadata": {},
   "outputs": [
    {
     "name": "stdout",
     "output_type": "stream",
     "text": [
      "[[0 0 0 0 0 0 0 0 0 0 0]\n",
      " [0 3 0 1 1 0 3 3 0 1 0]\n",
      " [0 0 0 0 0 0 0 0 0 0 0]\n",
      " [0 0 0 1 1 1 3 3 0 0 0]\n",
      " [0 3 0 0 0 0 0 0 0 1 0]\n",
      " [0 0 3 0 0 1 0 0 1 0 0]\n",
      " [0 0 0 0 1 0 3 0 0 0 0]\n",
      " [0 0 0 0 0 0 0 0 0 0 0]\n",
      " [0 0 0 0 0 2 0 0 0 0 0]\n",
      " [0 3 3 3 3 2 1 1 1 1 0]\n",
      " [0 0 0 0 0 0 0 0 0 0 0]]\n"
     ]
    },
    {
     "data": {
      "image/png": "[encoded data removed]",
      "text/plain": [
       "<Figure size 432x288 with 1 Axes>"
      ]
     },
     "metadata": {
      "needs_background": "light"
     },
     "output_type": "display_data"
    },
    {
     "data": {
      "image/png": "[encoded data removed]",
      "text/plain": [
       "<Figure size 360x360 with 1 Axes>"
      ]
     },
     "metadata": {
      "needs_background": "light"
     },
     "output_type": "display_data"
    }
   ],
   "source": [
    "# Dyna Q Learning Grid\n",
    "grid_n = 11\n",
    "plot_quiver(env, qp_values, grid_n)\n",
    "env_t, actions = create_env_test(grid_n)"
   ]
  },
  {
   "cell_type": "markdown",
   "id": "detailed-rubber",
   "metadata": {},
   "source": [
    "## Path Helper Function"
   ]
  },
  {
   "cell_type": "code",
   "execution_count": 29,
   "id": "instant-massachusetts",
   "metadata": {},
   "outputs": [],
   "source": [
    "def get_path_q(row_ind, col_ind, q_values):\n",
    "    \n",
    "    state = row_ind, col_ind\n",
    "    if env[state] != -1:\n",
    "        return []\n",
    "    else:\n",
    "        row, col = state\n",
    "        path = []\n",
    "        path.append([state])\n",
    "        while env[state] == -1:\n",
    "            action = next_action(state, 1.,q_values)\n",
    "            state = next_state(state, action)\n",
    "            path.append([state])\n",
    "        return path\n",
    "    \n",
    "def get_path_dynaq(row_ind, col_ind, qp_values):\n",
    "    \n",
    "    state = row_ind, col_ind\n",
    "    if env[state] != -1:\n",
    "        return []\n",
    "    else:\n",
    "        row, col = state\n",
    "        path = []\n",
    "        path.append([state])\n",
    "        while env[state] == -1:\n",
    "            action = next_action(state, 1., qp_values)\n",
    "            state = next_state(state, action)\n",
    "            path.append([state])\n",
    "        return path"
   ]
  },
  {
   "cell_type": "markdown",
   "id": "limiting-wesley",
   "metadata": {},
   "source": [
    "## Get Path"
   ]
  },
  {
   "cell_type": "code",
   "execution_count": 30,
   "id": "sexual-olive",
   "metadata": {},
   "outputs": [],
   "source": [
    "def path_test(alg,values,ls):\n",
    "    length = 0\n",
    "    target = 0\n",
    "    if alg == 'Q':\n",
    "        for i, row in enumerate(ls):\n",
    "            \n",
    "            if i == 0:\n",
    "                print('Testing Q-Learning:')\n",
    "            path = get_path_q(row[0], row[1], values)\n",
    "            if path[-1] == [(3,5)]:\n",
    "                target += 1\n",
    "            print('Test{0}:'.format(i),'Length of Path:',len(path),'Path:',path)\n",
    "            length += len(path)\n",
    "    if alg == 'D':\n",
    "        for i, row in enumerate(ls):\n",
    "            if i == 0:\n",
    "                print('Testing Dyna-Q:')\n",
    "            path = get_path_dynaq(row[0], row[1], values)\n",
    "            if path[-1] == [(3,5)]:\n",
    "                target += 1\n",
    "            print('Test{0}:'.format(i),'Length of Path:',len(path),'Path:',path)\n",
    "            length += len(path)\n",
    "    \n",
    "    return length, target"
   ]
  },
  {
   "cell_type": "code",
   "execution_count": 31,
   "id": "empty-seminar",
   "metadata": {},
   "outputs": [
    {
     "name": "stdout",
     "output_type": "stream",
     "text": [
      "Testing Q-Learning:\n",
      "Test0: Length of Path: 11 Path: [[(5, 5)], [(5, 4)], [(4, 4)], [(4, 3)], [(3, 3)], [(2, 3)], [(1, 3)], [(1, 4)], [(1, 5)], [(2, 5)], [(3, 5)]]\n",
      "Test1: Length of Path: 10 Path: [[(5, 4)], [(4, 4)], [(4, 3)], [(3, 3)], [(2, 3)], [(1, 3)], [(1, 4)], [(1, 5)], [(2, 5)], [(3, 5)]]\n",
      "Test2: Length of Path: 15 Path: [[(9, 1)], [(9, 2)], [(8, 2)], [(7, 2)], [(6, 2)], [(5, 2)], [(5, 3)], [(4, 3)], [(3, 3)], [(2, 3)], [(1, 3)], [(1, 4)], [(1, 5)], [(2, 5)], [(3, 5)]]\n",
      "Test3: Length of Path: 10 Path: [[(4, 9)], [(3, 9)], [(2, 9)], [(1, 9)], [(1, 8)], [(1, 7)], [(1, 6)], [(1, 5)], [(2, 5)], [(3, 5)]]\n",
      "Test4: Length of Path: 7 Path: [[(1, 1)], [(1, 2)], [(1, 3)], [(1, 4)], [(1, 5)], [(2, 5)], [(3, 5)]]\n",
      "Test5: Length of Path: 4 Path: [[(1, 4)], [(1, 5)], [(2, 5)], [(3, 5)]]\n",
      "Test6: Length of Path: 15 Path: [[(9, 3)], [(9, 2)], [(8, 2)], [(7, 2)], [(6, 2)], [(5, 2)], [(5, 3)], [(4, 3)], [(3, 3)], [(2, 3)], [(1, 3)], [(1, 4)], [(1, 5)], [(2, 5)], [(3, 5)]]\n",
      "Test7: Length of Path: 12 Path: [[(6, 9)], [(6, 8)], [(5, 8)], [(5, 7)], [(4, 7)], [(3, 7)], [(2, 7)], [(1, 7)], [(1, 6)], [(1, 5)], [(2, 5)], [(3, 5)]]\n",
      "Test8: Length of Path: 16 Path: [[(9, 6)], [(9, 7)], [(9, 8)], [(8, 8)], [(7, 8)], [(6, 8)], [(5, 8)], [(5, 7)], [(4, 7)], [(3, 7)], [(2, 7)], [(1, 7)], [(1, 6)], [(1, 5)], [(2, 5)], [(3, 5)]]\n",
      "Test9: Length of Path: 10 Path: [[(5, 8)], [(5, 7)], [(4, 7)], [(3, 7)], [(2, 7)], [(1, 7)], [(1, 6)], [(1, 5)], [(2, 5)], [(3, 5)]]\n",
      "\n",
      "Final Verdict for Q-Learing: 110 Correct out of 10: 10\n",
      "\n",
      "\n",
      "Testing Dyna-Q:\n",
      "Test0: Length of Path: 11 Path: [[(5, 5)], [(5, 4)], [(4, 4)], [(4, 3)], [(3, 3)], [(2, 3)], [(1, 3)], [(1, 4)], [(1, 5)], [(2, 5)], [(3, 5)]]\n",
      "Test1: Length of Path: 10 Path: [[(5, 4)], [(4, 4)], [(4, 3)], [(3, 3)], [(2, 3)], [(1, 3)], [(1, 4)], [(1, 5)], [(2, 5)], [(3, 5)]]\n",
      "Test2: Length of Path: 15 Path: [[(9, 1)], [(9, 2)], [(8, 2)], [(7, 2)], [(6, 2)], [(5, 2)], [(5, 3)], [(4, 3)], [(3, 3)], [(2, 3)], [(1, 3)], [(1, 4)], [(1, 5)], [(2, 5)], [(3, 5)]]\n",
      "Test3: Length of Path: 10 Path: [[(4, 9)], [(3, 9)], [(2, 9)], [(1, 9)], [(1, 8)], [(1, 7)], [(1, 6)], [(1, 5)], [(2, 5)], [(3, 5)]]\n",
      "Test4: Length of Path: 7 Path: [[(1, 1)], [(1, 2)], [(1, 3)], [(1, 4)], [(1, 5)], [(2, 5)], [(3, 5)]]\n",
      "Test5: Length of Path: 4 Path: [[(1, 4)], [(1, 5)], [(2, 5)], [(3, 5)]]\n",
      "Test6: Length of Path: 15 Path: [[(9, 3)], [(9, 2)], [(8, 2)], [(7, 2)], [(6, 2)], [(5, 2)], [(5, 3)], [(4, 3)], [(3, 3)], [(2, 3)], [(1, 3)], [(1, 4)], [(1, 5)], [(2, 5)], [(3, 5)]]\n",
      "Test7: Length of Path: 12 Path: [[(6, 9)], [(6, 8)], [(5, 8)], [(5, 7)], [(4, 7)], [(3, 7)], [(2, 7)], [(1, 7)], [(1, 6)], [(1, 5)], [(2, 5)], [(3, 5)]]\n",
      "Test8: Length of Path: 16 Path: [[(9, 6)], [(9, 7)], [(9, 8)], [(8, 8)], [(7, 8)], [(6, 8)], [(5, 8)], [(5, 7)], [(4, 7)], [(3, 7)], [(2, 7)], [(1, 7)], [(1, 6)], [(1, 5)], [(2, 5)], [(3, 5)]]\n",
      "Test9: Length of Path: 10 Path: [[(5, 8)], [(5, 7)], [(4, 7)], [(3, 7)], [(2, 7)], [(1, 7)], [(1, 6)], [(1, 5)], [(2, 5)], [(3, 5)]]\n",
      "\n",
      "Final Verdict for Dyna-Q: 110 Correct out of 10: 10\n"
     ]
    }
   ],
   "source": [
    "ls = [[5,5],[5,4],[9,1],[4,9],[1,1],[1,4],[9,3],[6,9],[9,6],[5,8]]\n",
    "\n",
    "testQ,targetQ = path_test('Q', q_values, ls)\n",
    "print('')\n",
    "print('Final Verdict for Q-Learing:',testQ,'Correct out of 10:',targetQ)\n",
    "print('')\n",
    "print('')\n",
    "\n",
    "testD,targetD = path_test('D', qp_values, ls)\n",
    "print('')\n",
    "print('Final Verdict for Dyna-Q:',testD,'Correct out of 10:',targetD)"
   ]
  },
  {
   "cell_type": "markdown",
   "id": "negative-classic",
   "metadata": {},
   "source": [
    "### Fully Testing the environment"
   ]
  },
  {
   "cell_type": "code",
   "execution_count": 32,
   "id": "revolutionary-survival",
   "metadata": {},
   "outputs": [
    {
     "name": "stdout",
     "output_type": "stream",
     "text": [
      "Final Verdict:\n",
      "Q-Learning Scored: 559 and hit target: 55 out of 55 states\n",
      "DynaQ Scored: 559 and hit target: 55 out of 55 states\n"
     ]
    }
   ],
   "source": [
    "tested_Q = 0\n",
    "target_Q = 0\n",
    "\n",
    "tested_D = 0\n",
    "target_D = 0\n",
    "\n",
    "for i in range(0, grid_n):\n",
    "    for j in range(0, grid_n):\n",
    "        if env[i,j] == -1:\n",
    "            path_q = get_path_q(i, j, q_values)\n",
    "            path_d = get_path_dynaq(i, j, qp_values)\n",
    "    \n",
    "            tested_Q += len(path_q)\n",
    "            tested_D += len(path_d)\n",
    "            \n",
    "            if path_q[-1] == [(3,5)]:\n",
    "                target_Q += 1\n",
    "                \n",
    "            if path_d[-1] == [(3,5)]:\n",
    "                target_D += 1\n",
    "                \n",
    "print('Final Verdict:')\n",
    "print('Q-Learning Scored:', tested_Q, 'and hit target:',target_Q,'out of 55 states')\n",
    "print('DynaQ Scored:', tested_D, 'and hit target:',target_D,'out of 55 states')"
   ]
  },
  {
   "cell_type": "markdown",
   "id": "overall-workshop",
   "metadata": {},
   "source": [
    "Final Verdict: This was a close race but the Dyna-Q implementation won due to one quicker route. I was expecting this because although Q-Learning is far less computationally expensive, the planning done by the Dyna-Q model should always out perform Q-Learning."
   ]
  },
  {
   "cell_type": "code",
   "execution_count": 33,
   "id": "choice-plaintiff",
   "metadata": {},
   "outputs": [],
   "source": [
    "# Defining best algorithm to use for robot\n",
    "values = qp_values"
   ]
  },
  {
   "cell_type": "markdown",
   "id": "macro-eight",
   "metadata": {},
   "source": [
    "### Use RL System no Robot"
   ]
  },
  {
   "cell_type": "code",
   "execution_count": 34,
   "id": "innovative-dryer",
   "metadata": {},
   "outputs": [],
   "source": [
    "def move(path, env_testing):\n",
    "    cnt = 0\n",
    "    \n",
    "    # Move through Path\n",
    "    print(path)\n",
    "    for i in path:\n",
    "\n",
    "        # Always starts at home\n",
    "        if cnt == 0:\n",
    "            print('Starting...')\n",
    "\n",
    "        print('row:',i[0][0],'  col:',i[0][1])\n",
    "        \n",
    "        # show graph of state\n",
    "        state = i[0][0],i[0][1]\n",
    "        graph_env(env_testing, state)\n",
    "        \n",
    "        # if cnt = 0, pick up goal cube\n",
    "        if cnt == 0:\n",
    "            print('pickup')\n",
    "            \n",
    "        # if cnt = end, drop off goal cube\n",
    "        if cnt == len(path) - 1:\n",
    "            print('dropoff and end')\n",
    "            \n",
    "        cnt+=1"
   ]
  },
  {
   "cell_type": "code",
   "execution_count": 35,
   "id": "continental-helmet",
   "metadata": {},
   "outputs": [
    {
     "data": {
      "image/png": "[encoded data removed]",
      "text/plain": [
       "<Figure size 360x360 with 1 Axes>"
      ]
     },
     "metadata": {
      "needs_background": "light"
     },
     "output_type": "display_data"
    },
    {
     "data": {
      "image/png": "[encoded data removed]",
      "text/plain": [
       "<Figure size 360x360 with 1 Axes>"
      ]
     },
     "metadata": {
      "needs_background": "light"
     },
     "output_type": "display_data"
    },
    {
     "name": "stdout",
     "output_type": "stream",
     "text": [
      "[[(9, 6)], [(9, 7)], [(9, 8)], [(8, 8)], [(7, 8)], [(6, 8)], [(5, 8)], [(5, 7)], [(4, 7)], [(3, 7)], [(2, 7)], [(1, 7)], [(1, 6)], [(1, 5)], [(2, 5)], [(3, 5)]]\n",
      "Starting...\n",
      "row: 9   col: 6\n"
     ]
    },
    {
     "data": {
      "image/png": "[encoded data removed]",
      "text/plain": [
       "<Figure size 360x360 with 1 Axes>"
      ]
     },
     "metadata": {
      "needs_background": "light"
     },
     "output_type": "display_data"
    },
    {
     "name": "stdout",
     "output_type": "stream",
     "text": [
      "pickup\n",
      "row: 9   col: 7\n"
     ]
    },
    {
     "data": {
      "image/png": "[encoded data removed]",
      "text/plain": [
       "<Figure size 360x360 with 1 Axes>"
      ]
     },
     "metadata": {
      "needs_background": "light"
     },
     "output_type": "display_data"
    },
    {
     "name": "stdout",
     "output_type": "stream",
     "text": [
      "row: 9   col: 8\n"
     ]
    },
    {
     "data": {
      "image/png": "[encoded data removed]",
      "text/plain": [
       "<Figure size 360x360 with 1 Axes>"
      ]
     },
     "metadata": {
      "needs_background": "light"
     },
     "output_type": "display_data"
    },
    {
     "name": "stdout",
     "output_type": "stream",
     "text": [
      "row: 8   col: 8\n"
     ]
    },
    {
     "data": {
      "image/png": "[encoded data removed]",
      "text/plain": [
       "<Figure size 360x360 with 1 Axes>"
      ]
     },
     "metadata": {
      "needs_background": "light"
     },
     "output_type": "display_data"
    },
    {
     "name": "stdout",
     "output_type": "stream",
     "text": [
      "row: 7   col: 8\n"
     ]
    },
    {
     "data": {
      "image/png": "[encoded data removed]",
      "text/plain": [
       "<Figure size 360x360 with 1 Axes>"
      ]
     },
     "metadata": {
      "needs_background": "light"
     },
     "output_type": "display_data"
    },
    {
     "name": "stdout",
     "output_type": "stream",
     "text": [
      "row: 6   col: 8\n"
     ]
    },
    {
     "data": {
      "image/png": "[encoded data removed]",
      "text/plain": [
       "<Figure size 360x360 with 1 Axes>"
      ]
     },
     "metadata": {
      "needs_background": "light"
     },
     "output_type": "display_data"
    },
    {
     "name": "stdout",
     "output_type": "stream",
     "text": [
      "row: 5   col: 8\n"
     ]
    },
    {
     "data": {
      "image/png": "[encoded data removed]",
      "text/plain": [
       "<Figure size 360x360 with 1 Axes>"
      ]
     },
     "metadata": {
      "needs_background": "light"
     },
     "output_type": "display_data"
    },
    {
     "name": "stdout",
     "output_type": "stream",
     "text": [
      "row: 5   col: 7\n"
     ]
    },
    {
     "data": {
      "image/png": "[encoded data removed]",
      "text/plain": [
       "<Figure size 360x360 with 1 Axes>"
      ]
     },
     "metadata": {
      "needs_background": "light"
     },
     "output_type": "display_data"
    },
    {
     "name": "stdout",
     "output_type": "stream",
     "text": [
      "row: 4   col: 7\n"
     ]
    },
    {
     "data": {
      "image/png": "[encoded data removed]",
      "text/plain": [
       "<Figure size 360x360 with 1 Axes>"
      ]
     },
     "metadata": {
      "needs_background": "light"
     },
     "output_type": "display_data"
    },
    {
     "name": "stdout",
     "output_type": "stream",
     "text": [
      "row: 3   col: 7\n"
     ]
    },
    {
     "data": {
      "image/png": "[encoded data removed]",
      "text/plain": [
       "<Figure size 360x360 with 1 Axes>"
      ]
     },
     "metadata": {
      "needs_background": "light"
     },
     "output_type": "display_data"
    },
    {
     "name": "stdout",
     "output_type": "stream",
     "text": [
      "row: 2   col: 7\n"
     ]
    },
    {
     "data": {
      "image/png": "[encoded data removed]",
      "text/plain": [
       "<Figure size 360x360 with 1 Axes>"
      ]
     },
     "metadata": {
      "needs_background": "light"
     },
     "output_type": "display_data"
    },
    {
     "name": "stdout",
     "output_type": "stream",
     "text": [
      "row: 1   col: 7\n"
     ]
    },
    {
     "data": {
      "image/png": "[encoded data removed]",
      "text/plain": [
       "<Figure size 360x360 with 1 Axes>"
      ]
     },
     "metadata": {
      "needs_background": "light"
     },
     "output_type": "display_data"
    },
    {
     "name": "stdout",
     "output_type": "stream",
     "text": [
      "row: 1   col: 6\n"
     ]
    },
    {
     "data": {
      "image/png": "[encoded data removed]",
      "text/plain": [
       "<Figure size 360x360 with 1 Axes>"
      ]
     },
     "metadata": {
      "needs_background": "light"
     },
     "output_type": "display_data"
    },
    {
     "name": "stdout",
     "output_type": "stream",
     "text": [
      "row: 1   col: 5\n"
     ]
    },
    {
     "data": {
      "image/png": "[encoded data removed]",
      "text/plain": [
       "<Figure size 360x360 with 1 Axes>"
      ]
     },
     "metadata": {
      "needs_background": "light"
     },
     "output_type": "display_data"
    },
    {
     "name": "stdout",
     "output_type": "stream",
     "text": [
      "row: 2   col: 5\n"
     ]
    },
    {
     "data": {
      "image/png": "[encoded data removed]",
      "text/plain": [
       "<Figure size 360x360 with 1 Axes>"
      ]
     },
     "metadata": {
      "needs_background": "light"
     },
     "output_type": "display_data"
    },
    {
     "name": "stdout",
     "output_type": "stream",
     "text": [
      "row: 3   col: 5\n"
     ]
    },
    {
     "data": {
      "image/png": "[encoded data removed]",
      "text/plain": [
       "<Figure size 360x360 with 1 Axes>"
      ]
     },
     "metadata": {
      "needs_background": "light"
     },
     "output_type": "display_data"
    },
    {
     "name": "stdout",
     "output_type": "stream",
     "text": [
      "dropoff and end\n"
     ]
    }
   ],
   "source": [
    "start = [9,6]\n",
    "\n",
    "# call create env again to make a new graphing showcase\n",
    "grid_n = 11\n",
    "env_testing, actions = create_env_test(grid_n)\n",
    "\n",
    "state = start[0], start[1]\n",
    "graph_env(env_testing, state)\n",
    "\n",
    "# get path\n",
    "path = get_path_q(start[0], start[1], values)\n",
    "\n",
    "# go through path\n",
    "move(path, env_testing)"
   ]
  },
  {
   "cell_type": "markdown",
   "id": "difficult-rainbow",
   "metadata": {},
   "source": [
    "# Part 2: Robot Arm Control"
   ]
  },
  {
   "cell_type": "code",
   "execution_count": 36,
   "id": "coupled-fetish",
   "metadata": {},
   "outputs": [],
   "source": [
    "# Watch the video linked in the introduction that will show the instalation process"
   ]
  },
  {
   "cell_type": "code",
   "execution_count": 37,
   "id": "compressed-international",
   "metadata": {},
   "outputs": [],
   "source": [
    "# Time Function and UARM API\n",
    "import time\n",
    "from uarm.wrapper.swift_api import SwiftAPI\n",
    "import serial"
   ]
  },
  {
   "cell_type": "code",
   "execution_count": 46,
   "id": "bored-nudist",
   "metadata": {},
   "outputs": [
    {
     "name": "stdout",
     "output_type": "stream",
     "text": [
      "checking com exceptions...\n",
      "can not found port, please connect the port via usb\n",
      "can not found port, please connect the port via usb\n",
      "can not found port, please connect the port via usb\n",
      "can not found port, please connect the port via usb\n",
      "can not found port, please connect the port via usb\n",
      "can not found port, please connect the port via usb\n",
      "can not found port, please connect the port via usb\n",
      "can not found port, please connect the port via usb\n",
      "can not found port, please connect the port via usb\n",
      "can not found port, please connect the port via usb\n",
      "can not found port, please connect the port via usb\n",
      "can not found port, please connect the port via usb\n",
      "can not found port, please connect the port via usb\n",
      "can not found port, please connect the port via usb\n",
      "can not found port, please connect the port via usb\n",
      "can not found port, please connect the port via usb\n",
      "can not found port, please connect the port via usb\n",
      "can not found port, please connect the port via usb\n",
      "Device Info: \n",
      "{'device_type': None, 'hardware_version': None, 'firmware_version': '3.2.0', 'api_version': '3.2.0', 'device_unique': '0CB2B77BE061'}\n"
     ]
    }
   ],
   "source": [
    "# For Access Purposes, allows for access of port exception handleing\n",
    "print(\"checking com exceptions...\")\n",
    "accessed = False\n",
    "while not accessed:\n",
    "    try:\n",
    "        swift = SwiftAPI()\n",
    "        accessed = True\n",
    "    except Exception as e:\n",
    "        print(str(e))\n",
    "        time.sleep(0.2)\n",
    "        \n",
    "print('Device Info: ')\n",
    "print(swift.get_device_info())"
   ]
  },
  {
   "cell_type": "markdown",
   "id": "simple-depression",
   "metadata": {},
   "source": [
    "## The Set UP\n",
    "As You can see I 3d Printed the environment and made it in the real world. With each square being 18x18 mm"
   ]
  },
  {
   "cell_type": "code",
   "execution_count": 47,
   "id": "other-identification",
   "metadata": {},
   "outputs": [],
   "source": [
    "from PIL import Image\n",
    "import IPython.display as display\n",
    "\n",
    "def image(my_image):\n",
    "    img = Image.open('img/{0}.jpg'.format(my_image))\n",
    "    display.display(img.transpose(Image.ROTATE_270))"
   ]
  },
  {
   "cell_type": "code",
   "execution_count": null,
   "id": "dimensional-roads",
   "metadata": {},
   "outputs": [],
   "source": [
    "# Unran snippet of code because it made file too big, these are pictures of the environment provided\n",
    "grid_n = 11 \n",
    "env_show, actions = create_env(grid_n)\n",
    "\n",
    "img1 = 'IMG_6470'\n",
    "image(img1)\n",
    "\n",
    "img2 = 'IMG_6473'\n",
    "image(img2)\n",
    "\n",
    "img3 = 'IMG_6471'\n",
    "image(img3)"
   ]
  },
  {
   "cell_type": "markdown",
   "id": "copyrighted-munich",
   "metadata": {},
   "source": [
    "## Moving the Robot Along the Path"
   ]
  },
  {
   "cell_type": "code",
   "execution_count": 49,
   "id": "better-facility",
   "metadata": {},
   "outputs": [],
   "source": [
    "# Home Function allows for a Reset when needed\n",
    "\n",
    "def home():\n",
    "    swift.flush_cmd()\n",
    "    swift.set_position(x=100, y=-80, z=80, speed=1000000)\n",
    "    swift.set_position(x=100, y=-80, z=20, speed=1000000)\n",
    "    swift.set_pump(False)"
   ]
  },
  {
   "cell_type": "code",
   "execution_count": 50,
   "id": "stylish-mediterranean",
   "metadata": {},
   "outputs": [],
   "source": [
    "home()"
   ]
  },
  {
   "cell_type": "code",
   "execution_count": 56,
   "id": "alternate-single",
   "metadata": {},
   "outputs": [],
   "source": [
    "def move_bot(path, env_testing):\n",
    "    cnt = 0\n",
    "\n",
    "    home()\n",
    "    time.sleep(5)\n",
    "\n",
    "    # Adhoc coding, I know this is frowned upon but for now it made things easier\n",
    "    start_row = 150\n",
    "    start_col = -80\n",
    "    start_z = 40\n",
    "\n",
    "    # Move through Path\n",
    "    print(path)\n",
    "    for i in path:\n",
    "\n",
    "        # Always starts at home\n",
    "        if cnt == 0:\n",
    "            print('Starting...')\n",
    "            swift.set_position(x=100, y=-80, z=80, speed=1000000)\n",
    "\n",
    "        print('row:',i[0][0],'  col:',i[0][1])\n",
    "\n",
    "        # Update x,y,z when needed\n",
    "        x = start_row\n",
    "        y = start_col\n",
    "        z = start_z\n",
    "\n",
    "        # Very Adhoc positioning again, but it made things easier for now\n",
    "        X = x + 160 - (i[0][0]*19.4)    # ex. x = 1: x=200\n",
    "        Y = -(y + (i[0][1]*19.45))      # ex. y = 1: y=-40\n",
    "        Z = start_z\n",
    "\n",
    "        # print location\n",
    "        print('X:', X, '  Y:',Y, '  Z:', Z)\n",
    "        swift.set_position(x=X, y=Y, z=Z, speed=1000000)\n",
    "        \n",
    "        state = i[0][0],i[0][1]\n",
    "        graph_env(env_testing, state)\n",
    "        \n",
    "        # wait 1 second\n",
    "        time.sleep(1)    \n",
    "\n",
    "        # if cnt = 0, pick up goal cube\n",
    "        if cnt == 0:\n",
    "            print('pickup')\n",
    "            swift.set_pump(True)\n",
    "            swift.set_position(x=X, y=Y, z=Z-30, speed=1000000)\n",
    "            time.sleep(4)\n",
    "            swift.set_position(x=X, y=Y, z=Z, speed=1000000)\n",
    "            time.sleep(1)\n",
    "            \n",
    "        # if cnt = end, drop off goal cube\n",
    "        if cnt == len(path) - 1:\n",
    "            print('dropoff and end')\n",
    "            swift.set_position(x=X, y=Y, z=Z-25, speed=1000000)\n",
    "            time.sleep(2)\n",
    "            swift.set_pump(False)\n",
    "            swift.set_position(x=X, y=Y, z=Z, speed=1000000)\n",
    "            time.sleep(1)\n",
    "            home()\n",
    "\n",
    "        cnt+=1"
   ]
  },
  {
   "cell_type": "markdown",
   "id": "possible-breath",
   "metadata": {},
   "source": [
    "### Bring To Drop Off Zone"
   ]
  },
  {
   "cell_type": "code",
   "execution_count": 57,
   "id": "miniature-demonstration",
   "metadata": {},
   "outputs": [
    {
     "data": {
      "image/png": "[encoded data removed]",
      "text/plain": [
       "<Figure size 360x360 with 1 Axes>"
      ]
     },
     "metadata": {
      "needs_background": "light"
     },
     "output_type": "display_data"
    },
    {
     "data": {
      "image/png": "[encoded data removed]",
      "text/plain": [
       "<Figure size 360x360 with 1 Axes>"
      ]
     },
     "metadata": {
      "needs_background": "light"
     },
     "output_type": "display_data"
    },
    {
     "name": "stdout",
     "output_type": "stream",
     "text": [
      "[[(9, 6)], [(9, 7)], [(9, 8)], [(8, 8)], [(7, 8)], [(6, 8)], [(5, 8)], [(5, 7)], [(4, 7)], [(3, 7)], [(2, 7)], [(1, 7)], [(1, 6)], [(1, 5)], [(2, 5)], [(3, 5)]]\n",
      "Starting...\n",
      "row: 9   col: 6\n",
      "X: 135.4   Y: -36.69999999999999   Z: 40\n"
     ]
    },
    {
     "data": {
      "image/png": "[encoded data removed]",
      "text/plain": [
       "<Figure size 360x360 with 1 Axes>"
      ]
     },
     "metadata": {
      "needs_background": "light"
     },
     "output_type": "display_data"
    },
    {
     "name": "stdout",
     "output_type": "stream",
     "text": [
      "pickup\n",
      "row: 9   col: 7\n",
      "X: 135.4   Y: -56.150000000000006   Z: 40\n"
     ]
    },
    {
     "data": {
      "image/png": "[encoded data removed]",
      "text/plain": [
       "<Figure size 360x360 with 1 Axes>"
      ]
     },
     "metadata": {
      "needs_background": "light"
     },
     "output_type": "display_data"
    },
    {
     "name": "stdout",
     "output_type": "stream",
     "text": [
      "row: 9   col: 8\n",
      "X: 135.4   Y: -75.6   Z: 40\n"
     ]
    },
    {
     "data": {
      "image/png": "[encoded data removed]",
      "text/plain": [
       "<Figure size 360x360 with 1 Axes>"
      ]
     },
     "metadata": {
      "needs_background": "light"
     },
     "output_type": "display_data"
    },
    {
     "name": "stdout",
     "output_type": "stream",
     "text": [
      "row: 8   col: 8\n",
      "X: 154.8   Y: -75.6   Z: 40\n"
     ]
    },
    {
     "data": {
      "image/png": "[encoded data removed]",
      "text/plain": [
       "<Figure size 360x360 with 1 Axes>"
      ]
     },
     "metadata": {
      "needs_background": "light"
     },
     "output_type": "display_data"
    },
    {
     "name": "stdout",
     "output_type": "stream",
     "text": [
      "row: 7   col: 8\n",
      "X: 174.20000000000002   Y: -75.6   Z: 40\n"
     ]
    },
    {
     "data": {
      "image/png": "[encoded data removed]",
      "text/plain": [
       "<Figure size 360x360 with 1 Axes>"
      ]
     },
     "metadata": {
      "needs_background": "light"
     },
     "output_type": "display_data"
    },
    {
     "name": "stdout",
     "output_type": "stream",
     "text": [
      "row: 6   col: 8\n",
      "X: 193.60000000000002   Y: -75.6   Z: 40\n"
     ]
    },
    {
     "data": {
      "image/png": "[encoded data removed]",
      "text/plain": [
       "<Figure size 360x360 with 1 Axes>"
      ]
     },
     "metadata": {
      "needs_background": "light"
     },
     "output_type": "display_data"
    },
    {
     "name": "stdout",
     "output_type": "stream",
     "text": [
      "row: 5   col: 8\n",
      "X: 213.0   Y: -75.6   Z: 40\n"
     ]
    },
    {
     "data": {
      "image/png": "[encoded data removed]",
      "text/plain": [
       "<Figure size 360x360 with 1 Axes>"
      ]
     },
     "metadata": {
      "needs_background": "light"
     },
     "output_type": "display_data"
    },
    {
     "name": "stdout",
     "output_type": "stream",
     "text": [
      "row: 5   col: 7\n",
      "X: 213.0   Y: -56.150000000000006   Z: 40\n"
     ]
    },
    {
     "data": {
      "image/png": "[encoded data removed]",
      "text/plain": [
       "<Figure size 360x360 with 1 Axes>"
      ]
     },
     "metadata": {
      "needs_background": "light"
     },
     "output_type": "display_data"
    },
    {
     "name": "stdout",
     "output_type": "stream",
     "text": [
      "row: 4   col: 7\n",
      "X: 232.4   Y: -56.150000000000006   Z: 40\n"
     ]
    },
    {
     "data": {
      "image/png": "[encoded data removed]",
      "text/plain": [
       "<Figure size 360x360 with 1 Axes>"
      ]
     },
     "metadata": {
      "needs_background": "light"
     },
     "output_type": "display_data"
    },
    {
     "name": "stdout",
     "output_type": "stream",
     "text": [
      "row: 3   col: 7\n",
      "X: 251.8   Y: -56.150000000000006   Z: 40\n"
     ]
    },
    {
     "data": {
      "image/png": "[encoded data removed]",
      "text/plain": [
       "<Figure size 360x360 with 1 Axes>"
      ]
     },
     "metadata": {
      "needs_background": "light"
     },
     "output_type": "display_data"
    },
    {
     "name": "stdout",
     "output_type": "stream",
     "text": [
      "row: 2   col: 7\n",
      "X: 271.2   Y: -56.150000000000006   Z: 40\n"
     ]
    },
    {
     "data": {
      "image/png": "[encoded data removed]",
      "text/plain": [
       "<Figure size 360x360 with 1 Axes>"
      ]
     },
     "metadata": {
      "needs_background": "light"
     },
     "output_type": "display_data"
    },
    {
     "name": "stdout",
     "output_type": "stream",
     "text": [
      "row: 1   col: 7\n",
      "X: 290.6   Y: -56.150000000000006   Z: 40\n"
     ]
    },
    {
     "data": {
      "image/png": "[encoded data removed]",
      "text/plain": [
       "<Figure size 360x360 with 1 Axes>"
      ]
     },
     "metadata": {
      "needs_background": "light"
     },
     "output_type": "display_data"
    },
    {
     "name": "stdout",
     "output_type": "stream",
     "text": [
      "row: 1   col: 6\n",
      "X: 290.6   Y: -36.69999999999999   Z: 40\n"
     ]
    },
    {
     "data": {
      "image/png": "[encoded data removed]",
      "text/plain": [
       "<Figure size 360x360 with 1 Axes>"
      ]
     },
     "metadata": {
      "needs_background": "light"
     },
     "output_type": "display_data"
    },
    {
     "name": "stdout",
     "output_type": "stream",
     "text": [
      "row: 1   col: 5\n",
      "X: 290.6   Y: -17.25   Z: 40\n"
     ]
    },
    {
     "data": {
      "image/png": "[encoded data removed]",
      "text/plain": [
       "<Figure size 360x360 with 1 Axes>"
      ]
     },
     "metadata": {
      "needs_background": "light"
     },
     "output_type": "display_data"
    },
    {
     "name": "stdout",
     "output_type": "stream",
     "text": [
      "row: 2   col: 5\n",
      "X: 271.2   Y: -17.25   Z: 40\n"
     ]
    },
    {
     "data": {
      "image/png": "[encoded data removed]",
      "text/plain": [
       "<Figure size 360x360 with 1 Axes>"
      ]
     },
     "metadata": {
      "needs_background": "light"
     },
     "output_type": "display_data"
    },
    {
     "name": "stdout",
     "output_type": "stream",
     "text": [
      "row: 3   col: 5\n",
      "X: 251.8   Y: -17.25   Z: 40\n"
     ]
    },
    {
     "data": {
      "image/png": "[encoded data removed]",
      "text/plain": [
       "<Figure size 360x360 with 1 Axes>"
      ]
     },
     "metadata": {
      "needs_background": "light"
     },
     "output_type": "display_data"
    },
    {
     "name": "stdout",
     "output_type": "stream",
     "text": [
      "dropoff and end\n"
     ]
    }
   ],
   "source": [
    "start = [9,6]\n",
    "\n",
    "# call create env again to make a new graphing showcase\n",
    "grid_n = 11\n",
    "env_testing, actions = create_env_test(grid_n)\n",
    "\n",
    "state = start[0], start[1]\n",
    "graph_env(env_testing, state)\n",
    "\n",
    "# get path\n",
    "path = get_path_q(start[0], start[1], values)\n",
    "\n",
    "# go through path\n",
    "move_bot(path, env_testing)"
   ]
  },
  {
   "cell_type": "markdown",
   "id": "material-simulation",
   "metadata": {},
   "source": [
    "The above is a visual representation of the path taken"
   ]
  },
  {
   "cell_type": "markdown",
   "id": "french-bruce",
   "metadata": {},
   "source": [
    "### Take from Drop off Zone and Bring Else where"
   ]
  },
  {
   "cell_type": "code",
   "execution_count": 58,
   "id": "developing-bobby",
   "metadata": {},
   "outputs": [
    {
     "data": {
      "image/png": "[encoded data removed]",
      "text/plain": [
       "<Figure size 360x360 with 1 Axes>"
      ]
     },
     "metadata": {
      "needs_background": "light"
     },
     "output_type": "display_data"
    },
    {
     "data": {
      "image/png": "[encoded data removed]",
      "text/plain": [
       "<Figure size 360x360 with 1 Axes>"
      ]
     },
     "metadata": {
      "needs_background": "light"
     },
     "output_type": "display_data"
    },
    {
     "name": "stdout",
     "output_type": "stream",
     "text": [
      "[[(3, 5)], [(2, 5)], [(1, 5)], [(1, 6)], [(1, 7)], [(2, 7)], [(3, 7)], [(4, 7)], [(5, 7)], [(5, 8)], [(6, 8)], [(7, 8)], [(8, 8)], [(9, 8)], [(9, 7)], [(9, 6)]]\n",
      "Starting...\n",
      "row: 3   col: 5\n",
      "X: 251.8   Y: -17.25   Z: 40\n"
     ]
    },
    {
     "data": {
      "image/png": "[encoded data removed]",
      "text/plain": [
       "<Figure size 360x360 with 1 Axes>"
      ]
     },
     "metadata": {
      "needs_background": "light"
     },
     "output_type": "display_data"
    },
    {
     "name": "stdout",
     "output_type": "stream",
     "text": [
      "pickup\n",
      "row: 2   col: 5\n",
      "X: 271.2   Y: -17.25   Z: 40\n"
     ]
    },
    {
     "data": {
      "image/png": "[encoded data removed]",
      "text/plain": [
       "<Figure size 360x360 with 1 Axes>"
      ]
     },
     "metadata": {
      "needs_background": "light"
     },
     "output_type": "display_data"
    },
    {
     "name": "stdout",
     "output_type": "stream",
     "text": [
      "row: 1   col: 5\n",
      "X: 290.6   Y: -17.25   Z: 40\n"
     ]
    },
    {
     "data": {
      "image/png": "[encoded data removed]",
      "text/plain": [
       "<Figure size 360x360 with 1 Axes>"
      ]
     },
     "metadata": {
      "needs_background": "light"
     },
     "output_type": "display_data"
    },
    {
     "name": "stdout",
     "output_type": "stream",
     "text": [
      "row: 1   col: 6\n",
      "X: 290.6   Y: -36.69999999999999   Z: 40\n"
     ]
    },
    {
     "data": {
      "image/png": "[encoded data removed]",
      "text/plain": [
       "<Figure size 360x360 with 1 Axes>"
      ]
     },
     "metadata": {
      "needs_background": "light"
     },
     "output_type": "display_data"
    },
    {
     "name": "stdout",
     "output_type": "stream",
     "text": [
      "row: 1   col: 7\n",
      "X: 290.6   Y: -56.150000000000006   Z: 40\n"
     ]
    },
    {
     "data": {
      "image/png": "[encoded data removed]",
      "text/plain": [
       "<Figure size 360x360 with 1 Axes>"
      ]
     },
     "metadata": {
      "needs_background": "light"
     },
     "output_type": "display_data"
    },
    {
     "name": "stdout",
     "output_type": "stream",
     "text": [
      "row: 2   col: 7\n",
      "X: 271.2   Y: -56.150000000000006   Z: 40\n"
     ]
    },
    {
     "data": {
      "image/png": "[encoded data removed]",
      "text/plain": [
       "<Figure size 360x360 with 1 Axes>"
      ]
     },
     "metadata": {
      "needs_background": "light"
     },
     "output_type": "display_data"
    },
    {
     "name": "stdout",
     "output_type": "stream",
     "text": [
      "row: 3   col: 7\n",
      "X: 251.8   Y: -56.150000000000006   Z: 40\n"
     ]
    },
    {
     "data": {
      "image/png": "[encoded data removed]",
      "text/plain": [
       "<Figure size 360x360 with 1 Axes>"
      ]
     },
     "metadata": {
      "needs_background": "light"
     },
     "output_type": "display_data"
    },
    {
     "name": "stdout",
     "output_type": "stream",
     "text": [
      "row: 4   col: 7\n",
      "X: 232.4   Y: -56.150000000000006   Z: 40\n"
     ]
    },
    {
     "data": {
      "image/png": "[encoded data removed]",
      "text/plain": [
       "<Figure size 360x360 with 1 Axes>"
      ]
     },
     "metadata": {
      "needs_background": "light"
     },
     "output_type": "display_data"
    },
    {
     "name": "stdout",
     "output_type": "stream",
     "text": [
      "row: 5   col: 7\n",
      "X: 213.0   Y: -56.150000000000006   Z: 40\n"
     ]
    },
    {
     "data": {
      "image/png": "[encoded data removed]",
      "text/plain": [
       "<Figure size 360x360 with 1 Axes>"
      ]
     },
     "metadata": {
      "needs_background": "light"
     },
     "output_type": "display_data"
    },
    {
     "name": "stdout",
     "output_type": "stream",
     "text": [
      "row: 5   col: 8\n",
      "X: 213.0   Y: -75.6   Z: 40\n"
     ]
    },
    {
     "data": {
      "image/png": "[encoded data removed]",
      "text/plain": [
       "<Figure size 360x360 with 1 Axes>"
      ]
     },
     "metadata": {
      "needs_background": "light"
     },
     "output_type": "display_data"
    },
    {
     "name": "stdout",
     "output_type": "stream",
     "text": [
      "row: 6   col: 8\n",
      "X: 193.60000000000002   Y: -75.6   Z: 40\n"
     ]
    },
    {
     "data": {
      "image/png": "[encoded data removed]",
      "text/plain": [
       "<Figure size 360x360 with 1 Axes>"
      ]
     },
     "metadata": {
      "needs_background": "light"
     },
     "output_type": "display_data"
    },
    {
     "name": "stdout",
     "output_type": "stream",
     "text": [
      "row: 7   col: 8\n",
      "X: 174.20000000000002   Y: -75.6   Z: 40\n"
     ]
    },
    {
     "data": {
      "image/png": "[encoded data removed]",
      "text/plain": [
       "<Figure size 360x360 with 1 Axes>"
      ]
     },
     "metadata": {
      "needs_background": "light"
     },
     "output_type": "display_data"
    },
    {
     "name": "stdout",
     "output_type": "stream",
     "text": [
      "row: 8   col: 8\n",
      "X: 154.8   Y: -75.6   Z: 40\n"
     ]
    },
    {
     "data": {
      "image/png": "[encoded data removed]",
      "text/plain": [
       "<Figure size 360x360 with 1 Axes>"
      ]
     },
     "metadata": {
      "needs_background": "light"
     },
     "output_type": "display_data"
    },
    {
     "name": "stdout",
     "output_type": "stream",
     "text": [
      "row: 9   col: 8\n",
      "X: 135.4   Y: -75.6   Z: 40\n"
     ]
    },
    {
     "data": {
      "image/png": "[encoded data removed]",
      "text/plain": [
       "<Figure size 360x360 with 1 Axes>"
      ]
     },
     "metadata": {
      "needs_background": "light"
     },
     "output_type": "display_data"
    },
    {
     "name": "stdout",
     "output_type": "stream",
     "text": [
      "row: 9   col: 7\n",
      "X: 135.4   Y: -56.150000000000006   Z: 40\n"
     ]
    },
    {
     "data": {
      "image/png": "[encoded data removed]",
      "text/plain": [
       "<Figure size 360x360 with 1 Axes>"
      ]
     },
     "metadata": {
      "needs_background": "light"
     },
     "output_type": "display_data"
    },
    {
     "name": "stdout",
     "output_type": "stream",
     "text": [
      "row: 9   col: 6\n",
      "X: 135.4   Y: -36.69999999999999   Z: 40\n"
     ]
    },
    {
     "data": {
      "image/png": "[encoded data removed]",
      "text/plain": [
       "<Figure size 360x360 with 1 Axes>"
      ]
     },
     "metadata": {
      "needs_background": "light"
     },
     "output_type": "display_data"
    },
    {
     "name": "stdout",
     "output_type": "stream",
     "text": [
      "dropoff and end\n"
     ]
    }
   ],
   "source": [
    "start = [9,6]\n",
    "\n",
    "# call create env again to make a new graphing showcase\n",
    "grid_n = 11\n",
    "env_testing, actions = create_env_test(grid_n)\n",
    "\n",
    "state = start[0], start[1]\n",
    "graph_env(env_testing, state)\n",
    "\n",
    "# get path\n",
    "path = get_path_q(start[0], start[1], qp_values)\n",
    "\n",
    "# To Reverse the process\n",
    "path = path[::-1]\n",
    "\n",
    "# go through path\n",
    "move_bot(path, env_testing)"
   ]
  },
  {
   "cell_type": "markdown",
   "id": "exposed-backing",
   "metadata": {},
   "source": []
  },
  {
   "cell_type": "code",
   "execution_count": null,
   "id": "forty-revision",
   "metadata": {},
   "outputs": [],
   "source": []
  }
 ],
 "metadata": {
  "kernelspec": {
   "display_name": "Python 3",
   "language": "python",
   "name": "python3"
  },
  "language_info": {
   "codemirror_mode": {
    "name": "ipython",
    "version": 3
   },
   "file_extension": ".py",
   "mimetype": "text/x-python",
   "name": "python",
   "nbconvert_exporter": "python",
   "pygments_lexer": "ipython3",
   "version": "3.7.9"
  }
 },
 "nbformat": 4,
 "nbformat_minor": 5
}
